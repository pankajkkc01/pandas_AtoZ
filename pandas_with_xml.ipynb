{
  "nbformat": 4,
  "nbformat_minor": 0,
  "metadata": {
    "colab": {
      "provenance": []
    },
    "kernelspec": {
      "name": "python3",
      "display_name": "Python 3"
    },
    "language_info": {
      "name": "python"
    }
  },
  "cells": [
    {
      "cell_type": "markdown",
      "source": [
        "## Xml stands for xtesible markup language\n",
        "## used to store and transformation of the data\n",
        "## APIs are the prominatent application of the XML\n",
        "## remember= whenever the  is data storege and data pulling work then think about the XML and json formate\n",
        "## xml much like html but there is slight diifrence in XML and HTMl"
      ],
      "metadata": {
        "id": "EhhdpCUopQ_4"
      }
    },
    {
      "cell_type": "markdown",
      "source": [
        "lets\n",
        "# 1= read XML and dataframe"
      ],
      "metadata": {
        "id": "Zk3bGD3MqM_F"
      }
    },
    {
      "cell_type": "code",
      "execution_count": 4,
      "metadata": {
        "id": "uU_eQ-Mf3w18"
      },
      "outputs": [],
      "source": [
        "import pandas as pd\n"
      ]
    },
    {
      "cell_type": "code",
      "source": [
        "xml=pd.read_xml('https://www.w3schools.com/xml/simple.xml')"
      ],
      "metadata": {
        "id": "xr5UGbx9rLNc"
      },
      "execution_count": 7,
      "outputs": []
    },
    {
      "cell_type": "code",
      "source": [
        "print(xml)"
      ],
      "metadata": {
        "colab": {
          "base_uri": "https://localhost:8080/"
        },
        "id": "_Tb4YcgEqZtJ",
        "outputId": "158ea284-0b7d-443f-f34f-2d9685d44f6f"
      },
      "execution_count": 8,
      "outputs": [
        {
          "output_type": "stream",
          "name": "stdout",
          "text": [
            "                          name  price  \\\n",
            "0              Belgian Waffles  $5.95   \n",
            "1   Strawberry Belgian Waffles  $7.95   \n",
            "2  Berry-Berry Belgian Waffles  $8.95   \n",
            "3                 French Toast  $4.50   \n",
            "4          Homestyle Breakfast  $6.95   \n",
            "\n",
            "                                         description  calories  \n",
            "0  Two of our famous Belgian Waffles with plenty ...       650  \n",
            "1  Light Belgian waffles covered with strawberrie...       900  \n",
            "2  Light Belgian waffles covered with an assortme...       900  \n",
            "3  Thick slices made from our homemade sourdough ...       600  \n",
            "4  Two eggs, bacon or sausage, toast, and our eve...       950  \n"
          ]
        }
      ]
    },
    {
      "cell_type": "code",
      "source": [
        "xml = '''                          name  price  \\\n",
        "0              Belgian Waffles  $5.95\n",
        "1   Strawberry Belgian Waffles  $7.95\n",
        "2  Berry-Berry Belgian Waffles  $8.95\n",
        "3                 French Toast  $4.50\n",
        "4          Homestyle Breakfast  $6.95\n",
        "\n",
        "                                         description  calories\n",
        "0  Two of our famous Belgian Waffles with plenty ...       650\n",
        "1  Light Belgian waffles covered with strawberrie...       900\n",
        "2  Light Belgian waffles covered with an assortme...       900\n",
        "3  Thick slices made from our homemade sourdough ...       600\n",
        "4  Two eggs, bacon or sausage, toast, and our eve...       950\n",
        "[20]\n",
        "0s\n",
        "'''"
      ],
      "metadata": {
        "id": "C6J3AJKFsajY"
      },
      "execution_count": 24,
      "outputs": []
    }
  ]
}